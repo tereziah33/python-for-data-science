{
 "cells": [
  {
   "metadata": {},
   "cell_type": "markdown",
   "source": [
    "# Assignment 1\n",
    "- deadline: 15.10.2025\n",
    "- you will learn: how to submit solutions\n",
    "- task: run all the cells below, add another cell where you print your GitHub username, commit and push the changes to your repository"
   ],
   "id": "d9f3166f05eb5272"
  },
  {
   "metadata": {
    "ExecuteTime": {
     "end_time": "2025-09-28T18:34:23.613988Z",
     "start_time": "2025-09-28T18:34:23.570735Z"
    }
   },
   "cell_type": "code",
   "source": "print(\"2+1 = \", 2+1)",
   "id": "172a7d5acb1aa308",
   "outputs": [
    {
     "name": "stdout",
     "output_type": "stream",
     "text": [
      "2+1 =  3\n"
     ]
    }
   ],
   "execution_count": 6
  },
  {
   "metadata": {
    "ExecuteTime": {
     "end_time": "2025-09-28T18:34:25.428846Z",
     "start_time": "2025-09-28T18:34:25.405262Z"
    }
   },
   "cell_type": "code",
   "source": "print(\"tereziah33\")\n",
   "id": "43da6555877dbfed",
   "outputs": [
    {
     "name": "stdout",
     "output_type": "stream",
     "text": [
      "tereziah33\n"
     ]
    }
   ],
   "execution_count": 7
  },
  {
   "metadata": {},
   "cell_type": "markdown",
   "source": "",
   "id": "d0d02202a9bd902f"
  }
 ],
 "metadata": {
  "kernelspec": {
   "display_name": "Python 3",
   "language": "python",
   "name": "python3"
  },
  "language_info": {
   "codemirror_mode": {
    "name": "ipython",
    "version": 2
   },
   "file_extension": ".py",
   "mimetype": "text/x-python",
   "name": "python",
   "nbconvert_exporter": "python",
   "pygments_lexer": "ipython2",
   "version": "2.7.6"
  }
 },
 "nbformat": 4,
 "nbformat_minor": 5
}
